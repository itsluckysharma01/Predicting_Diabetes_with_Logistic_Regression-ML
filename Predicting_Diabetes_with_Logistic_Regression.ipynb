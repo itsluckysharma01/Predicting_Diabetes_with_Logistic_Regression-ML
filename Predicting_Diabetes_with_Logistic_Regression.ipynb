{
 "cells": [
  {
   "cell_type": "markdown",
   "id": "3b33feb0",
   "metadata": {},
   "source": [
    "                                      # Predicting_Diabetes_with_Logistic_Regression"
   ]
  },
  {
   "cell_type": "code",
   "execution_count": null,
   "id": "8fcf024e",
   "metadata": {},
   "outputs": [],
   "source": []
  }
 ],
 "metadata": {
  "language_info": {
   "name": "python"
  }
 },
 "nbformat": 4,
 "nbformat_minor": 5
}
